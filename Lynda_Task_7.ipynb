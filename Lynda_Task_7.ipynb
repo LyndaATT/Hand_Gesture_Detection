{
  "nbformat": 4,
  "nbformat_minor": 0,
  "metadata": {
    "colab": {
      "name": "Lynda_attouche_task7.ipynb",
      "provenance": [],
      "collapsed_sections": []
    },
    "kernelspec": {
      "name": "python3",
      "display_name": "Python 3"
    },
    "language_info": {
      "name": "python"
    }
  },
  "cells": [
    {
      "cell_type": "markdown",
      "source": [
        "----------------------------------------------------------------------------------------------------------\n",
        "***********************************************************************************************************\n",
        "\n",
        "# <span style=\"color:Purple\"> Computer vision for machine learning Project: \"Detecting hand gestures\"\n",
        "\n",
        "\n",
        "#### Task 7: \n",
        "\n",
        "#### Author: Lynda Attouche\n",
        "#### Link: https://colab.research.google.com/drive/1srDMYqq6xxHhcrpn_lsei6mYWuKxRgTW?usp=sharing\n",
        "*******************************************************************************************\n",
        "----------------------------------------------------------------------------------------------------------\n"
      ],
      "metadata": {
        "id": "3VK70elrKCVy"
      }
    },
    {
      "cell_type": "markdown",
      "source": [
        "## README\n",
        "* Throughout this notebook, no special commands are needed to run the code. Simply run the cells in order. \n",
        "* In this notebook, the word *unvaried* refers to the dataset that contains no variation on the letter 'K', and varied refers to the dataset with variability on all letters."
      ],
      "metadata": {
        "id": "PonYU2BLKLWe"
      }
    },
    {
      "cell_type": "markdown",
      "source": [
        "## Importing libraries"
      ],
      "metadata": {
        "id": "jC5yTGDCjNuE"
      }
    },
    {
      "cell_type": "code",
      "execution_count": 1,
      "metadata": {
        "id": "GzINb4ySFuJm"
      },
      "outputs": [],
      "source": [
        "import sklearn\n",
        "import matplotlib.pyplot as plt\n",
        "import numpy as np\n",
        "import os\n",
        "import keras\n",
        "from keras.models import Sequential\n",
        "import tensorflow as tf\n",
        "from keras.layers import Dense, Dropout\n",
        "import seaborn as sn\n",
        "from google.colab.output import eval_js\n",
        "from keras.models import model_from_json\n",
        "from tensorflow.keras import regularizers\n",
        "import pandas as pd\n",
        "import numpy as np\n",
        "from PIL import Image\n",
        "from sklearn.metrics import accuracy_score, confusion_matrix,precision_score,recall_score,f1_score\n",
        "import io\n",
        "import cv2\n",
        "import time\n",
        "import random"
      ]
    },
    {
      "cell_type": "code",
      "source": [
        "from google.colab import drive\n",
        "drive.mount('/content/drive')"
      ],
      "metadata": {
        "colab": {
          "base_uri": "https://localhost:8080/"
        },
        "id": "FPtaN_CsF-P1",
        "outputId": "4f005371-4a61-46b1-a65e-d3648489442c"
      },
      "execution_count": 2,
      "outputs": [
        {
          "output_type": "stream",
          "name": "stdout",
          "text": [
            "Drive already mounted at /content/drive; to attempt to forcibly remount, call drive.mount(\"/content/drive\", force_remount=True).\n"
          ]
        }
      ]
    },
    {
      "cell_type": "markdown",
      "source": [
        "The goal of this task is to build models and train them on the different datasets generated in the previous task (dataset1: which is balanced and varied, dataset2: unbalanced and varied, dataset3: unbalanced and unvaried), which means that we will have 3 models for each dataset. These models will be saved to be used in the next task. Also, a comparison of the 3 will be carried out in this notebook."
      ],
      "metadata": {
        "id": "kU7sJeHbtLjD"
      }
    },
    {
      "cell_type": "markdown",
      "source": [
        "## Loading Datasets"
      ],
      "metadata": {
        "id": "djIwMQVZLPEi"
      }
    },
    {
      "cell_type": "code",
      "source": [
        "dataset_path1 = \"/content/drive/MyDrive/ComputerVision/HandGesture_1/\" #balanced + variation \n",
        "dataset_path2 = \"/content/drive/MyDrive/ComputerVision/HandGesture_2/\" #unbalanced + variation \n",
        "dataset_path3 = \"/content/drive/MyDrive/ComputerVision/HandGesture_3/\"  #balanced + No variation in a class\n",
        "path = \"/content/drive/MyDrive/ComputerVision/\""
      ],
      "metadata": {
        "id": "-iCoZ1zRGU1R"
      },
      "execution_count": 3,
      "outputs": []
    },
    {
      "cell_type": "code",
      "source": [
        "def load_dataset(dataset_file_path):\n",
        "  \"\"\"\n",
        "    Loads dataset from text file \n",
        "    @param:\n",
        "          dataset_file_path (string): dataset path\n",
        "    @return: \n",
        "          samples (array): images\n",
        "          letter (array): labels\n",
        "  \"\"\"\n",
        "  a = np.loadtxt(dataset_file_path, delimiter=',', converters={ 0 : lambda ch : ord(ch)-ord('A') })\n",
        "  samples, letters = a[:,1:], a[:,0]\n",
        "  return samples, letters"
      ],
      "metadata": {
        "id": "0cmFgQ0wGbya"
      },
      "execution_count": 4,
      "outputs": []
    },
    {
      "cell_type": "code",
      "source": [
        "samples1,letters1 = load_dataset(path+'/dataset1.txt')\n",
        "samples2,letters2 = load_dataset(path+'/dataset2.txt')\n",
        "samples3,letters3 = load_dataset(path+'/dataset3.txt')"
      ],
      "metadata": {
        "id": "hLk2Mm9TGeXY"
      },
      "execution_count": 5,
      "outputs": []
    },
    {
      "cell_type": "code",
      "source": [
        "def relabelling(letters):\n",
        "  \"\"\"\n",
        "    Rellabeling images\n",
        "    @params:\n",
        "          - letters (array): labels\n",
        "    @return:\n",
        "          relabled letters\n",
        "  \"\"\"\n",
        "  u = np.unique(letters)\n",
        "  for i in range(len(letters)):\n",
        "    if letters[i] ==  u[0]: \n",
        "      letters[i] = 0 #A\n",
        "    elif letters[i] == u[1]:\n",
        "      letters[i] = 1 #E\n",
        "    elif letters[i] == u[3]:\n",
        "      letters[i] = 2 #K\n",
        "    else:\n",
        "      letters[i] = 3  #Y\n",
        "  return letters"
      ],
      "metadata": {
        "id": "60Sf-MhSLnB5"
      },
      "execution_count": 6,
      "outputs": []
    },
    {
      "cell_type": "code",
      "source": [
        "#relabelling: this is done on prupose. It allows simplification\n",
        "letters1 = relabelling(letters1)\n",
        "letters2 = relabelling(letters2)\n",
        "letters3 = relabelling(letters3)"
      ],
      "metadata": {
        "id": "-2bYRDa7MtIT"
      },
      "execution_count": 7,
      "outputs": []
    },
    {
      "cell_type": "markdown",
      "source": [
        "## Data preprocessing"
      ],
      "metadata": {
        "id": "WEP8NVTLLbNc"
      }
    },
    {
      "cell_type": "code",
      "source": [
        "def split(train_ratio, samples, letters):\n",
        "  \"\"\"\n",
        "  Splits data in train and validation set\n",
        "  @params:\n",
        "      train_ratio (float): proportion of the train set\n",
        "      samples (array): images\n",
        "      letters (array): labels\n",
        "  @return: \n",
        "      x_train,y_train: images and labels of training set\n",
        "      x_val,y_val: images and labels of validation set\n",
        "  \"\"\"\n",
        "  n_train_samples = int(len(samples) * train_ratio)\n",
        "  x_train, y_train = samples[:n_train_samples], letters[:n_train_samples]\n",
        "  x_val, y_val = samples[n_train_samples:], letters[n_train_samples:]\n",
        "  return x_train,y_train,x_val,y_val"
      ],
      "metadata": {
        "id": "DxNo3El9mMkz"
      },
      "execution_count": 8,
      "outputs": []
    },
    {
      "cell_type": "code",
      "source": [
        "#splitting\n",
        "train_ratio = 0.7  #here 70% of the data will be the trainset and 30% the validation one\n",
        "x_train1,y_train1,x_val1,y_val1 = split(train_ratio, samples1, letters1)\n",
        "x_train2,y_train2,x_val2,y_val2 = split(train_ratio, samples2, letters2)\n",
        "x_train3,y_train3,x_val3,y_val3 = split(train_ratio, samples3, letters3)"
      ],
      "metadata": {
        "id": "OKyWIro4GpIM"
      },
      "execution_count": 9,
      "outputs": []
    },
    {
      "cell_type": "code",
      "source": [
        "def prepro(num_classes,x_train,y_train,x_val,y_val):\n",
        "  \"\"\"\n",
        "    Normalizes data and converts labels to binary class matrices\n",
        "    @params:\n",
        "          num_classes(int): number of classes in the dataset\n",
        "          x_train (array): images of train set\n",
        "          y_train (array): labels of train set (0,1,2,3)\n",
        "          x_val (array): images of train set\n",
        "          y_val (array): labels of train set (0,1,2,3)\n",
        "    @return: \n",
        "          x_train : normalized train images\n",
        "          y_train: converted train labels\n",
        "          x_val : normalized validation images\n",
        "          y_val: converted validation labels\n",
        "  \"\"\"\n",
        "  x_train = x_train.astype('float32')\n",
        "  x_val = x_val.astype('float32')\n",
        "  # we normalize data (convert value to range from 0 to 1)\n",
        "  # this is done to reduce computation complexity (because origin values are high and thus it's more complex)\n",
        "  # by this reduction, the computation will be faster and easier\n",
        "  x_train /= 255\n",
        "  x_val /= 255\n",
        "  # convert class vectors to binary class matrices\n",
        "  # converting them is required to train our models\n",
        "  y_train = tf.keras.utils.to_categorical(y_train, num_classes)\n",
        "  y_val = tf.keras.utils.to_categorical(y_val, num_classes)\n",
        "  return x_train,y_train,x_val,y_val"
      ],
      "metadata": {
        "id": "ddnU9lDL9Phm"
      },
      "execution_count": 10,
      "outputs": []
    },
    {
      "cell_type": "code",
      "source": [
        "num_classes = 4 #number of classes \n",
        "#preprocessing the data\n",
        "x_train1,y_train1,x_val1,y_val1 = prepro(num_classes,x_train1,y_train1,x_val1,y_val1)\n",
        "x_train2,y_train2,x_val2,y_val2 = prepro(num_classes,x_train2,y_train2,x_val2,y_val2)\n",
        "x_train3,y_train3,x_val3,y_val3 = prepro(num_classes,x_train3,y_train3,x_val3,y_val3)"
      ],
      "metadata": {
        "id": "3GOFvnvKGx56"
      },
      "execution_count": 11,
      "outputs": []
    },
    {
      "cell_type": "markdown",
      "source": [
        "### Building, training, evaluating models"
      ],
      "metadata": {
        "id": "C-qyaydLLm03"
      }
    },
    {
      "cell_type": "code",
      "source": [
        "def plot_acc_loss(str,history):\n",
        "    \"\"\"\n",
        "    Plot accuracy and loss of a model\n",
        "    @params:\n",
        "            - history: history of the model\n",
        "    @return:\n",
        "            plots\n",
        "    \"\"\"\n",
        "    fig, ax = plt.subplots(1, 2, figsize=(15,5))\n",
        "    fig.suptitle(str, fontsize=16)\n",
        "\n",
        "    l = list(history.history.keys())\n",
        "    print(l)\n",
        "    # accuracy plot\n",
        "    ax[0].plot(history.history[l[1]])\n",
        "    ax[0].plot(history.history[l[3]])\n",
        "    ax[0].set_title('Accuracy')\n",
        "    ax[0].set_ylabel('Accuracy')\n",
        "    ax[0].set_xlabel('Epoch')\n",
        "    ax[0].legend(['Train', 'Valid'], loc='upper left')\n",
        "\n",
        "    # loss plot\n",
        "    ax[1].plot(history.history[l[0]])\n",
        "    ax[1].plot(history.history[l[2]])\n",
        "    ax[1].set_title('Loss') \n",
        "    ax[1].set_ylabel('Loss') \n",
        "    ax[1].set_xlabel('Epoch') \n",
        "    ax[1].legend(['Train', 'Valid'], loc='upper left') \n",
        "    plt.show()"
      ],
      "metadata": {
        "id": "xTS7CltVyC0R"
      },
      "execution_count": 12,
      "outputs": []
    },
    {
      "cell_type": "code",
      "source": [
        "epochs = 20 #number of epochs for training"
      ],
      "metadata": {
        "id": "8Gyo3yyWzzGr"
      },
      "execution_count": 13,
      "outputs": []
    },
    {
      "cell_type": "markdown",
      "source": [
        "### Model 1: using dataset 1"
      ],
      "metadata": {
        "id": "lq2rqvEuyV7V"
      }
    },
    {
      "cell_type": "code",
      "source": [
        "model1 = Sequential() #sequential network\n",
        "model1.add(Dense(200, activation='relu', input_shape=(256,))) #first hidden layer with 200 neurons, it takes input of shape (256,), which is the shape of our images in the text file\n",
        "#we use relu activation function to avoid gradient vanishing\n",
        "model1.add(Dropout(0.5)) #dropout layer with proba 0.4\n",
        "model1.add(Dense(100, activation='relu'))  #second dense layer with 100 neurons\n",
        "model1.add(Dense(num_classes, activation='softmax')) #output layer: number_classes (4) and we use the activation function softmax because we have a multiclassification problem\n",
        "\n",
        "model1.summary() #print a summary of the neural network\n",
        "\n",
        "model1.compile(loss='categorical_crossentropy', #we use categorical cross entrpy as loss function since we have many classes \n",
        "              optimizer='adam', #as an optimizer Adam is used to speed up computations \n",
        "              metrics=['accuracy']) #as metric we use accuracy (proportion of true results among all the predictions)"
      ],
      "metadata": {
        "id": "mZUvCYjeaUHG",
        "colab": {
          "base_uri": "https://localhost:8080/"
        },
        "outputId": "e15fb857-5d82-4ae3-d19e-db263d1ae537"
      },
      "execution_count": 14,
      "outputs": [
        {
          "output_type": "stream",
          "name": "stdout",
          "text": [
            "Model: \"sequential\"\n",
            "_________________________________________________________________\n",
            " Layer (type)                Output Shape              Param #   \n",
            "=================================================================\n",
            " dense (Dense)               (None, 200)               51400     \n",
            "                                                                 \n",
            " dropout (Dropout)           (None, 200)               0         \n",
            "                                                                 \n",
            " dense_1 (Dense)             (None, 100)               20100     \n",
            "                                                                 \n",
            " dense_2 (Dense)             (None, 4)                 404       \n",
            "                                                                 \n",
            "=================================================================\n",
            "Total params: 71,904\n",
            "Trainable params: 71,904\n",
            "Non-trainable params: 0\n",
            "_________________________________________________________________\n"
          ]
        }
      ]
    },
    {
      "cell_type": "code",
      "source": [
        "#as an optimization technique, early stopping is used with respect to accuracy, it will help us to stop the training before it overfits \n",
        "callback = tf.keras.callbacks.EarlyStopping(patience=4) \n",
        "#training model on the train set\n",
        "history1 = model1.fit(x_train1, y_train1,\n",
        "                    epochs=epochs,\n",
        "                    verbose=1,\n",
        "                    validation_data=(x_val1, y_val1),\n",
        "                    callbacks=[callback])\n",
        "#evaluating the model using validation set\n",
        "score1 = model1.evaluate(x_val1, y_val1, verbose=0)\n",
        "print('Validation loss for balanced and varied dataset:', score1[0])\n",
        "print('Validation accuracy for balanced and varied dataset:', score1[1])"
      ],
      "metadata": {
        "colab": {
          "base_uri": "https://localhost:8080/"
        },
        "id": "H5Fsd4HbnuHF",
        "outputId": "2c956bd7-8154-4b3a-d62c-a271fa4c5f58"
      },
      "execution_count": 15,
      "outputs": [
        {
          "output_type": "stream",
          "name": "stdout",
          "text": [
            "Epoch 1/20\n",
            "15/15 [==============================] - 2s 48ms/step - loss: 1.4123 - accuracy: 0.2979 - val_loss: 1.2330 - val_accuracy: 0.4703\n",
            "Epoch 2/20\n",
            "15/15 [==============================] - 0s 14ms/step - loss: 1.1808 - accuracy: 0.4979 - val_loss: 1.0633 - val_accuracy: 0.6584\n",
            "Epoch 3/20\n",
            "15/15 [==============================] - 0s 13ms/step - loss: 1.0268 - accuracy: 0.5936 - val_loss: 0.9328 - val_accuracy: 0.6832\n",
            "Epoch 4/20\n",
            "15/15 [==============================] - 0s 17ms/step - loss: 0.8980 - accuracy: 0.6426 - val_loss: 0.8179 - val_accuracy: 0.7228\n",
            "Epoch 5/20\n",
            "15/15 [==============================] - 0s 12ms/step - loss: 0.7743 - accuracy: 0.7149 - val_loss: 0.7346 - val_accuracy: 0.7525\n",
            "Epoch 6/20\n",
            "15/15 [==============================] - 0s 12ms/step - loss: 0.6652 - accuracy: 0.7702 - val_loss: 0.7038 - val_accuracy: 0.7228\n",
            "Epoch 7/20\n",
            "15/15 [==============================] - 0s 9ms/step - loss: 0.5680 - accuracy: 0.7957 - val_loss: 0.6508 - val_accuracy: 0.7673\n",
            "Epoch 8/20\n",
            "15/15 [==============================] - 0s 8ms/step - loss: 0.4753 - accuracy: 0.8383 - val_loss: 0.6392 - val_accuracy: 0.7574\n",
            "Epoch 9/20\n",
            "15/15 [==============================] - 0s 8ms/step - loss: 0.4504 - accuracy: 0.8404 - val_loss: 0.5961 - val_accuracy: 0.7673\n",
            "Epoch 10/20\n",
            "15/15 [==============================] - 0s 8ms/step - loss: 0.3374 - accuracy: 0.9021 - val_loss: 0.6404 - val_accuracy: 0.7673\n",
            "Epoch 11/20\n",
            "15/15 [==============================] - 0s 11ms/step - loss: 0.3420 - accuracy: 0.8830 - val_loss: 0.5949 - val_accuracy: 0.7921\n",
            "Epoch 12/20\n",
            "15/15 [==============================] - 0s 10ms/step - loss: 0.2446 - accuracy: 0.9255 - val_loss: 0.6336 - val_accuracy: 0.7871\n",
            "Epoch 13/20\n",
            "15/15 [==============================] - 0s 8ms/step - loss: 0.2199 - accuracy: 0.9532 - val_loss: 0.6026 - val_accuracy: 0.7970\n",
            "Epoch 14/20\n",
            "15/15 [==============================] - 0s 12ms/step - loss: 0.1692 - accuracy: 0.9489 - val_loss: 0.6302 - val_accuracy: 0.8119\n",
            "Epoch 15/20\n",
            "15/15 [==============================] - 0s 10ms/step - loss: 0.1828 - accuracy: 0.9532 - val_loss: 0.5934 - val_accuracy: 0.8168\n",
            "Epoch 16/20\n",
            "15/15 [==============================] - 0s 10ms/step - loss: 0.1606 - accuracy: 0.9553 - val_loss: 0.6203 - val_accuracy: 0.8069\n",
            "Epoch 17/20\n",
            "15/15 [==============================] - 0s 13ms/step - loss: 0.1317 - accuracy: 0.9660 - val_loss: 0.6537 - val_accuracy: 0.8168\n",
            "Epoch 18/20\n",
            "15/15 [==============================] - 0s 14ms/step - loss: 0.1210 - accuracy: 0.9596 - val_loss: 0.7070 - val_accuracy: 0.8020\n",
            "Epoch 19/20\n",
            "15/15 [==============================] - 0s 18ms/step - loss: 0.1196 - accuracy: 0.9723 - val_loss: 0.6806 - val_accuracy: 0.8020\n",
            "Validation loss for balanced and varied dataset: 0.6806074976921082\n",
            "Validation accuracy for balanced and varied dataset: 0.801980197429657\n"
          ]
        }
      ]
    },
    {
      "cell_type": "code",
      "source": [
        "plot_acc_loss('Balanced dataset with variation',history1) #plotting accuracy and loss function"
      ],
      "metadata": {
        "colab": {
          "base_uri": "https://localhost:8080/",
          "height": 387
        },
        "id": "V3QfzKV2qtni",
        "outputId": "04161c36-7879-45a6-8444-ed4a7ba23d80"
      },
      "execution_count": 16,
      "outputs": [
        {
          "output_type": "stream",
          "name": "stdout",
          "text": [
            "['loss', 'accuracy', 'val_loss', 'val_accuracy']\n"
          ]
        },
        {
          "output_type": "display_data",
          "data": {
            "text/plain": [
              "<Figure size 1080x360 with 2 Axes>"
            ],
            "image/png": "[encoded data removed]"
          },
          "metadata": {
            "needs_background": "light"
          }
        }
      ]
    },
    {
      "cell_type": "markdown",
      "source": [
        "###### Comment:\n",
        "It can be seen that the two curves: accuracy and loss are not smooth enough. Moreover, the loss does not reach zero and rubs the overfitting. "
      ],
      "metadata": {
        "id": "VI-Rn_ub68sq"
      }
    },
    {
      "cell_type": "markdown",
      "source": [
        "### Model 2: using dataset 2"
      ],
      "metadata": {
        "id": "1WWQOzowyZsf"
      }
    },
    {
      "cell_type": "code",
      "source": [
        "model2 = Sequential() #sequential network\n",
        "model2.add(Dense(100, activation='relu', input_shape=(256,))) #first hidden layer with 100 neurons, it takes input of shape (256,), which is the shape of our images in the text file\n",
        "#we use relu activation function to avoid gradient vanishing\n",
        "model2.add(Dropout(0.4)) #dropout layer with proba 0.4\n",
        "model2.add(Dense(50, activation='relu')) #second dense layer with 50 neurons\n",
        "model2.add(Dense(num_classes, activation='softmax')) #output layer: number_classes (4) and we use the activation function softmax because we have a multiclassification problem\n",
        "\n",
        "model2.summary() #print a summary of the neural network\n",
        "\n",
        "model2.compile(loss='categorical_crossentropy', #we use categorical cross entrpy as loss function since we have many classes \n",
        "              optimizer='adam', #as an optimizer Adam is used to speed up computations \n",
        "              metrics=['accuracy']) #as metric we use accuracy (proportion of true results among all the predictions)"
      ],
      "metadata": {
        "id": "4NKZXQ9hyc95",
        "colab": {
          "base_uri": "https://localhost:8080/"
        },
        "outputId": "0687110f-1f38-4abc-ca8a-82a21b174122"
      },
      "execution_count": 17,
      "outputs": [
        {
          "output_type": "stream",
          "name": "stdout",
          "text": [
            "Model: \"sequential_1\"\n",
            "_________________________________________________________________\n",
            " Layer (type)                Output Shape              Param #   \n",
            "=================================================================\n",
            " dense_3 (Dense)             (None, 100)               25700     \n",
            "                                                                 \n",
            " dropout_1 (Dropout)         (None, 100)               0         \n",
            "                                                                 \n",
            " dense_4 (Dense)             (None, 50)                5050      \n",
            "                                                                 \n",
            " dense_5 (Dense)             (None, 4)                 204       \n",
            "                                                                 \n",
            "=================================================================\n",
            "Total params: 30,954\n",
            "Trainable params: 30,954\n",
            "Non-trainable params: 0\n",
            "_________________________________________________________________\n"
          ]
        }
      ]
    },
    {
      "cell_type": "code",
      "source": [
        "#as an optimization technique, early stopping is used with respect to accuracy, it will help us to stop the training before it overfits \n",
        "callback = tf.keras.callbacks.EarlyStopping(patience=3)  #lower value because it is more sensitive to overfitting\n",
        "#training model on the train set\n",
        "history2 = model2.fit(x_train2, y_train2,\n",
        "                    epochs=epochs,\n",
        "                    verbose=1,\n",
        "                    validation_data=(x_val2, y_val2),\n",
        "                    callbacks=[callback])\n",
        "#evaluating the model using validation set\n",
        "score2 = model2.evaluate(x_val2, y_val2, verbose=0)\n",
        "print('Validation loss for unbalanced and varied dataset:', score2[0])\n",
        "print('Validation accuracy for unbalanced and varied dataset:', score2[1])"
      ],
      "metadata": {
        "colab": {
          "base_uri": "https://localhost:8080/"
        },
        "id": "uiiaQVjjnlri",
        "outputId": "41bc4bc7-f43c-439d-d70b-9f683958fe4e"
      },
      "execution_count": 18,
      "outputs": [
        {
          "output_type": "stream",
          "name": "stdout",
          "text": [
            "Epoch 1/20\n",
            "10/10 [==============================] - 1s 54ms/step - loss: 1.3552 - accuracy: 0.3299 - val_loss: 1.2259 - val_accuracy: 0.4173\n",
            "Epoch 2/20\n",
            "10/10 [==============================] - 0s 17ms/step - loss: 1.1535 - accuracy: 0.4932 - val_loss: 1.1527 - val_accuracy: 0.4646\n",
            "Epoch 3/20\n",
            "10/10 [==============================] - 0s 18ms/step - loss: 1.1051 - accuracy: 0.5204 - val_loss: 1.0711 - val_accuracy: 0.5906\n",
            "Epoch 4/20\n",
            "10/10 [==============================] - 0s 23ms/step - loss: 0.9886 - accuracy: 0.6020 - val_loss: 0.9935 - val_accuracy: 0.6535\n",
            "Epoch 5/20\n",
            "10/10 [==============================] - 0s 12ms/step - loss: 0.9141 - accuracy: 0.6395 - val_loss: 0.9059 - val_accuracy: 0.6772\n",
            "Epoch 6/20\n",
            "10/10 [==============================] - 0s 14ms/step - loss: 0.7854 - accuracy: 0.6633 - val_loss: 0.8451 - val_accuracy: 0.6693\n",
            "Epoch 7/20\n",
            "10/10 [==============================] - 0s 13ms/step - loss: 0.7761 - accuracy: 0.6735 - val_loss: 0.8017 - val_accuracy: 0.6772\n",
            "Epoch 8/20\n",
            "10/10 [==============================] - 0s 11ms/step - loss: 0.6471 - accuracy: 0.7551 - val_loss: 0.7693 - val_accuracy: 0.7087\n",
            "Epoch 9/20\n",
            "10/10 [==============================] - 0s 20ms/step - loss: 0.6056 - accuracy: 0.7687 - val_loss: 0.7365 - val_accuracy: 0.7559\n",
            "Epoch 10/20\n",
            "10/10 [==============================] - 0s 16ms/step - loss: 0.5470 - accuracy: 0.8231 - val_loss: 0.6820 - val_accuracy: 0.7402\n",
            "Epoch 11/20\n",
            "10/10 [==============================] - 0s 10ms/step - loss: 0.5017 - accuracy: 0.8605 - val_loss: 0.6467 - val_accuracy: 0.7638\n",
            "Epoch 12/20\n",
            "10/10 [==============================] - 0s 10ms/step - loss: 0.4537 - accuracy: 0.8673 - val_loss: 0.6539 - val_accuracy: 0.7874\n",
            "Epoch 13/20\n",
            "10/10 [==============================] - 0s 15ms/step - loss: 0.4022 - accuracy: 0.8741 - val_loss: 0.6452 - val_accuracy: 0.8110\n",
            "Epoch 14/20\n",
            "10/10 [==============================] - 0s 10ms/step - loss: 0.3475 - accuracy: 0.9082 - val_loss: 0.6199 - val_accuracy: 0.8031\n",
            "Epoch 15/20\n",
            "10/10 [==============================] - 0s 15ms/step - loss: 0.3286 - accuracy: 0.9048 - val_loss: 0.6130 - val_accuracy: 0.8110\n",
            "Epoch 16/20\n",
            "10/10 [==============================] - 0s 19ms/step - loss: 0.2865 - accuracy: 0.9082 - val_loss: 0.6196 - val_accuracy: 0.8189\n",
            "Epoch 17/20\n",
            "10/10 [==============================] - 0s 16ms/step - loss: 0.2909 - accuracy: 0.9116 - val_loss: 0.6350 - val_accuracy: 0.8110\n",
            "Epoch 18/20\n",
            "10/10 [==============================] - 0s 20ms/step - loss: 0.2500 - accuracy: 0.9422 - val_loss: 0.6410 - val_accuracy: 0.8110\n",
            "Validation loss for unbalanced and varied dataset: 0.6409686803817749\n",
            "Validation accuracy for unbalanced and varied dataset: 0.8110235929489136\n"
          ]
        }
      ]
    },
    {
      "cell_type": "code",
      "source": [
        "plot_acc_loss('Unbalanced dataset with variation',history2) #plotting accuracy and loss function"
      ],
      "metadata": {
        "colab": {
          "base_uri": "https://localhost:8080/",
          "height": 387
        },
        "id": "PVbXVj1MoyZx",
        "outputId": "25b6caa2-882f-4b52-b65c-58f1c16461a3"
      },
      "execution_count": 19,
      "outputs": [
        {
          "output_type": "stream",
          "name": "stdout",
          "text": [
            "['loss', 'accuracy', 'val_loss', 'val_accuracy']\n"
          ]
        },
        {
          "output_type": "display_data",
          "data": {
            "text/plain": [
              "<Figure size 1080x360 with 2 Axes>"
            ],
            "image/png": "[encoded data removed]"
          },
          "metadata": {
            "needs_background": "light"
          }
        }
      ]
    },
    {
      "cell_type": "markdown",
      "source": [
        "###### Comment:\n",
        "For this new dataset/model, the look of the curves is similar to the one before. However, here the overfitting is more obvious. "
      ],
      "metadata": {
        "id": "lbLd_3gZ67Ak"
      }
    },
    {
      "cell_type": "markdown",
      "source": [
        "### Model 3: using dataset 3"
      ],
      "metadata": {
        "id": "AkO9wkJPyn_D"
      }
    },
    {
      "cell_type": "code",
      "source": [
        "model3 = Sequential() #sequential network\n",
        "model3.add(Dense(100, activation='relu', input_shape=(256,))) #first hidden layer with 100 neurons, it takes input of shape (256,), which is the shape of our images in the text file\n",
        "#we use relu activation function to avoid gradient vanishing\n",
        "model3.add(Dropout(0.4)) #dropout layer with proba 0.5\n",
        "model3.add(Dense(50, activation='relu')) #second dense layer with 50 neurons\n",
        "model3.add(Dropout(0.4)) #dropout layer with proba 0.5\n",
        "model3.add(Dense(num_classes, activation='softmax')) #output layer: number_classes (4) and we use the activation function softmax because we have a multiclassification problem\n",
        "\n",
        "model3.summary() #print a summary of the neural network\n",
        "\n",
        "model3.compile(loss='categorical_crossentropy', #we use categorical cross entrpy as loss function since we have many classes \n",
        "              optimizer='adam', #as an optimizer Adam is used to speed up computations \n",
        "              metrics=['accuracy']) #as metric we use accuracy (proportion of true results among all the predictions)"
      ],
      "metadata": {
        "id": "3i3NISVMyt0v",
        "colab": {
          "base_uri": "https://localhost:8080/"
        },
        "outputId": "6633e1b4-75c8-43ce-fbb3-00e7394ef1eb"
      },
      "execution_count": 20,
      "outputs": [
        {
          "output_type": "stream",
          "name": "stdout",
          "text": [
            "Model: \"sequential_2\"\n",
            "_________________________________________________________________\n",
            " Layer (type)                Output Shape              Param #   \n",
            "=================================================================\n",
            " dense_6 (Dense)             (None, 100)               25700     \n",
            "                                                                 \n",
            " dropout_2 (Dropout)         (None, 100)               0         \n",
            "                                                                 \n",
            " dense_7 (Dense)             (None, 50)                5050      \n",
            "                                                                 \n",
            " dropout_3 (Dropout)         (None, 50)                0         \n",
            "                                                                 \n",
            " dense_8 (Dense)             (None, 4)                 204       \n",
            "                                                                 \n",
            "=================================================================\n",
            "Total params: 30,954\n",
            "Trainable params: 30,954\n",
            "Non-trainable params: 0\n",
            "_________________________________________________________________\n"
          ]
        }
      ]
    },
    {
      "cell_type": "code",
      "source": [
        "callback = tf.keras.callbacks.EarlyStopping(patience=2)  #lower value because it is more sensitive to overfitting\n",
        "#training model on the train set\n",
        "history3 = model3.fit(x_train3, y_train3,\n",
        "                    epochs=epochs,\n",
        "                    verbose=1,\n",
        "                    validation_data=(x_val3, y_val3),\n",
        "                    callbacks=[callback])\n",
        "#evaluating the model using validation set\n",
        "score3 = model3.evaluate(x_val3, y_val3, verbose=0)\n",
        "print('Validation loss for unbalanced and unvaried dataset:', score3[0])\n",
        "print('Validation accuracy for unbalanced and unvaried dataset:', score3[1])"
      ],
      "metadata": {
        "colab": {
          "base_uri": "https://localhost:8080/"
        },
        "id": "Avvzw2emn2Rl",
        "outputId": "53d2c869-ae14-4a20-ca50-6d18d70fbc9d"
      },
      "execution_count": 21,
      "outputs": [
        {
          "output_type": "stream",
          "name": "stdout",
          "text": [
            "Epoch 1/20\n",
            "15/15 [==============================] - 1s 34ms/step - loss: 1.4243 - accuracy: 0.3319 - val_loss: 1.1227 - val_accuracy: 0.6139\n",
            "Epoch 2/20\n",
            "15/15 [==============================] - 0s 9ms/step - loss: 1.0771 - accuracy: 0.5553 - val_loss: 0.9099 - val_accuracy: 0.6931\n",
            "Epoch 3/20\n",
            "15/15 [==============================] - 0s 8ms/step - loss: 0.8828 - accuracy: 0.6447 - val_loss: 0.7200 - val_accuracy: 0.7079\n",
            "Epoch 4/20\n",
            "15/15 [==============================] - 0s 16ms/step - loss: 0.7632 - accuracy: 0.6894 - val_loss: 0.6164 - val_accuracy: 0.7475\n",
            "Epoch 5/20\n",
            "15/15 [==============================] - 0s 12ms/step - loss: 0.6872 - accuracy: 0.7043 - val_loss: 0.5761 - val_accuracy: 0.7574\n",
            "Epoch 6/20\n",
            "15/15 [==============================] - 0s 10ms/step - loss: 0.6107 - accuracy: 0.7277 - val_loss: 0.5646 - val_accuracy: 0.7673\n",
            "Epoch 7/20\n",
            "15/15 [==============================] - 0s 14ms/step - loss: 0.5144 - accuracy: 0.7957 - val_loss: 0.5256 - val_accuracy: 0.7871\n",
            "Epoch 8/20\n",
            "15/15 [==============================] - 0s 9ms/step - loss: 0.4751 - accuracy: 0.8064 - val_loss: 0.5122 - val_accuracy: 0.7970\n",
            "Epoch 9/20\n",
            "15/15 [==============================] - 0s 14ms/step - loss: 0.4492 - accuracy: 0.7957 - val_loss: 0.4894 - val_accuracy: 0.7921\n",
            "Epoch 10/20\n",
            "15/15 [==============================] - 0s 12ms/step - loss: 0.4550 - accuracy: 0.8234 - val_loss: 0.5014 - val_accuracy: 0.7871\n",
            "Epoch 11/20\n",
            "15/15 [==============================] - 0s 11ms/step - loss: 0.3865 - accuracy: 0.8574 - val_loss: 0.4957 - val_accuracy: 0.7970\n",
            "Validation loss for unbalanced and unvaried dataset: 0.49571049213409424\n",
            "Validation accuracy for unbalanced and unvaried dataset: 0.7970296740531921\n"
          ]
        }
      ]
    },
    {
      "cell_type": "code",
      "source": [
        "plot_acc_loss('Balanced dataset without variation on letter K',history3) #plotting accuracy and loss function"
      ],
      "metadata": {
        "colab": {
          "base_uri": "https://localhost:8080/",
          "height": 387
        },
        "id": "t2GXtlS5o2xh",
        "outputId": "59173111-3cea-4437-a8cc-9ae296e12da1"
      },
      "execution_count": 22,
      "outputs": [
        {
          "output_type": "stream",
          "name": "stdout",
          "text": [
            "['loss', 'accuracy', 'val_loss', 'val_accuracy']\n"
          ]
        },
        {
          "output_type": "display_data",
          "data": {
            "text/plain": [
              "<Figure size 1080x360 with 2 Axes>"
            ],
            "image/png": "[encoded data removed]"
          },
          "metadata": {
            "needs_background": "light"
          }
        }
      ]
    },
    {
      "cell_type": "markdown",
      "source": [
        "###### Comment:\n",
        "Similarly to the previous curves, the loss curve is ot reaching 0 and an overfitting can be noticed. "
      ],
      "metadata": {
        "id": "5UuzScKL65VF"
      }
    },
    {
      "cell_type": "markdown",
      "source": [
        "#### Note: \n",
        "The lack of higher accuracy, despite several improvements (change of the number of neurons, layers, the addition of regularizers, dropout,...etc) as well as the beginning of overfitting is due to the choice of the classes. Indeed, the 'a' and 'e' classes are very close and the images can be confusing."
      ],
      "metadata": {
        "id": "MtI7hF_GJvBU"
      }
    },
    {
      "cell_type": "markdown",
      "source": [
        "## Comparing models: accuracy, loss and behavior with different datasets"
      ],
      "metadata": {
        "id": "uqdf9WUr4EAu"
      }
    },
    {
      "cell_type": "markdown",
      "source": [
        "To compare the models, we start with a comparison of the precisions and losses obtained previously. Then we will evaluate each of them on the other datasets (those which are not used for its evaluation) to see their behavior"
      ],
      "metadata": {
        "id": "xpn-Q6t24nsE"
      }
    },
    {
      "cell_type": "markdown",
      "source": [
        "#### a) Accuracy and loss"
      ],
      "metadata": {
        "id": "xG-N7aeB5HxW"
      }
    },
    {
      "cell_type": "markdown",
      "source": [
        "Following is a summary table of the performance of the 3 models (loss and accuracy)"
      ],
      "metadata": {
        "id": "fzs1ps3AKo4I"
      }
    },
    {
      "cell_type": "code",
      "source": [
        "df = pd.DataFrame({'Model_1': [round(score1[0],3),round(score1[1],3)], \n",
        "                  'Model_2': [round(score2[0],3),round(score2[1],3)],\n",
        "                  'Model_3': [round(score3[0],3),round(score3[1],3)]},\n",
        "                  index=['Loss','Accuracy'])\n",
        "df"
      ],
      "metadata": {
        "colab": {
          "base_uri": "https://localhost:8080/",
          "height": 112
        },
        "id": "vknBfweX6ZeV",
        "outputId": "8f16d349-beca-4b07-cc2b-b6a07cc6156b"
      },
      "execution_count": 23,
      "outputs": [
        {
          "output_type": "execute_result",
          "data": {
            "text/plain": [
              "          Model_1  Model_2  Model_3\n",
              "Loss        0.681    0.641    0.496\n",
              "Accuracy    0.802    0.811    0.797"
            ],
            "text/html": [
              "\n",
              "  <div id=\"df-34d90b4b-580a-46cf-a1c3-5fc76751b356\">\n",
              "    <div class=\"colab-df-container\">\n",
              "      <div>\n",
              "<style scoped>\n",
              "    .dataframe tbody tr th:only-of-type {\n",
              "        vertical-align: middle;\n",
              "    }\n",
              "\n",
              "    .dataframe tbody tr th {\n",
              "        vertical-align: top;\n",
              "    }\n",
              "\n",
              "    .dataframe thead th {\n",
              "        text-align: right;\n",
              "    }\n",
              "</style>\n",
              "<table border=\"1\" class=\"dataframe\">\n",
              "  <thead>\n",
              "    <tr style=\"text-align: right;\">\n",
              "      <th></th>\n",
              "      <th>Model_1</th>\n",
              "      <th>Model_2</th>\n",
              "      <th>Model_3</th>\n",
              "    </tr>\n",
              "  </thead>\n",
              "  <tbody>\n",
              "    <tr>\n",
              "      <th>Loss</th>\n",
              "      <td>0.681</td>\n",
              "      <td>0.641</td>\n",
              "      <td>0.496</td>\n",
              "    </tr>\n",
              "    <tr>\n",
              "      <th>Accuracy</th>\n",
              "      <td>0.802</td>\n",
              "      <td>0.811</td>\n",
              "      <td>0.797</td>\n",
              "    </tr>\n",
              "  </tbody>\n",
              "</table>\n",
              "</div>\n",
              "      <button class=\"colab-df-convert\" onclick=\"convertToInteractive('df-34d90b4b-580a-46cf-a1c3-5fc76751b356')\"\n",
              "              title=\"Convert this dataframe to an interactive table.\"\n",
              "              style=\"display:none;\">\n",
              "        \n",
              "  <svg xmlns=\"http://www.w3.org/2000/svg\" height=\"24px\"viewBox=\"0 0 24 24\"\n",
              "       width=\"24px\">\n",
              "    <path d=\"M0 0h24v24H0V0z\" fill=\"none\"/>\n",
              "    <path d=\"M18.56 5.44l.94 2.06.94-2.06 2.06-.94-2.06-.94-.94-2.06-.94 2.06-2.06.94zm-11 1L8.5 8.5l.94-2.06 2.06-.94-2.06-.94L8.5 2.5l-.94 2.06-2.06.94zm10 10l.94 2.06.94-2.06 2.06-.94-2.06-.94-.94-2.06-.94 2.06-2.06.94z\"/><path d=\"M17.41 7.96l-1.37-1.37c-.4-.4-.92-.59-1.43-.59-.52 0-1.04.2-1.43.59L10.3 9.45l-7.72 7.72c-.78.78-.78 2.05 0 2.83L4 21.41c.39.39.9.59 1.41.59.51 0 1.02-.2 1.41-.59l7.78-7.78 2.81-2.81c.8-.78.8-2.07 0-2.86zM5.41 20L4 18.59l7.72-7.72 1.47 1.35L5.41 20z\"/>\n",
              "  </svg>\n",
              "      </button>\n",
              "      \n",
              "  <style>\n",
              "    .colab-df-container {\n",
              "      display:flex;\n",
              "      flex-wrap:wrap;\n",
              "      gap: 12px;\n",
              "    }\n",
              "\n",
              "    .colab-df-convert {\n",
              "      background-color: #E8F0FE;\n",
              "      border: none;\n",
              "      border-radius: 50%;\n",
              "      cursor: pointer;\n",
              "      display: none;\n",
              "      fill: #1967D2;\n",
              "      height: 32px;\n",
              "      padding: 0 0 0 0;\n",
              "      width: 32px;\n",
              "    }\n",
              "\n",
              "    .colab-df-convert:hover {\n",
              "      background-color: #E2EBFA;\n",
              "      box-shadow: 0px 1px 2px rgba(60, 64, 67, 0.3), 0px 1px 3px 1px rgba(60, 64, 67, 0.15);\n",
              "      fill: #174EA6;\n",
              "    }\n",
              "\n",
              "    [theme=dark] .colab-df-convert {\n",
              "      background-color: #3B4455;\n",
              "      fill: #D2E3FC;\n",
              "    }\n",
              "\n",
              "    [theme=dark] .colab-df-convert:hover {\n",
              "      background-color: #434B5C;\n",
              "      box-shadow: 0px 1px 3px 1px rgba(0, 0, 0, 0.15);\n",
              "      filter: drop-shadow(0px 1px 2px rgba(0, 0, 0, 0.3));\n",
              "      fill: #FFFFFF;\n",
              "    }\n",
              "  </style>\n",
              "\n",
              "      <script>\n",
              "        const buttonEl =\n",
              "          document.querySelector('#df-34d90b4b-580a-46cf-a1c3-5fc76751b356 button.colab-df-convert');\n",
              "        buttonEl.style.display =\n",
              "          google.colab.kernel.accessAllowed ? 'block' : 'none';\n",
              "\n",
              "        async function convertToInteractive(key) {\n",
              "          const element = document.querySelector('#df-34d90b4b-580a-46cf-a1c3-5fc76751b356');\n",
              "          const dataTable =\n",
              "            await google.colab.kernel.invokeFunction('convertToInteractive',\n",
              "                                                     [key], {});\n",
              "          if (!dataTable) return;\n",
              "\n",
              "          const docLinkHtml = 'Like what you see? Visit the ' +\n",
              "            '<a target=\"_blank\" href=https://colab.research.google.com/notebooks/data_table.ipynb>data table notebook</a>'\n",
              "            + ' to learn more about interactive tables.';\n",
              "          element.innerHTML = '';\n",
              "          dataTable['output_type'] = 'display_data';\n",
              "          await google.colab.output.renderOutput(dataTable, element);\n",
              "          const docLink = document.createElement('div');\n",
              "          docLink.innerHTML = docLinkHtml;\n",
              "          element.appendChild(docLink);\n",
              "        }\n",
              "      </script>\n",
              "    </div>\n",
              "  </div>\n",
              "  "
            ]
          },
          "metadata": {},
          "execution_count": 23
        }
      ]
    },
    {
      "cell_type": "markdown",
      "source": [
        "###### Comment:\n",
        "The accuracy and loss are quite similar for the 3 datasets. It should be stressed that the evaluation is done on the same dataset, so the characteristics of the train set and validation are the same, which means that the comparison is not effective. This is why testing these models on new data with different properties is essential for the comparison. And this is what will be done in the next section."
      ],
      "metadata": {
        "id": "oGvvZC1G6031"
      }
    },
    {
      "cell_type": "markdown",
      "source": [
        "#### b) With other datasets\n",
        "To address the concerns of the previous question and to compare the datasets in an efficient and clear way, the models will be tested on never seen data which will be the datasets used to generate the other models. To do the analysis, we use the accuracy as a metric and analyze the confusion matrix."
      ],
      "metadata": {
        "id": "OGLc8cmA5N1V"
      }
    },
    {
      "cell_type": "markdown",
      "source": [
        "##### $\\rightarrow$ Model 1 with dataset 2 and 3"
      ],
      "metadata": {
        "id": "ZH785N5u7ALs"
      }
    },
    {
      "cell_type": "code",
      "source": [
        "# DATASET 2\n",
        "pred12 = model1.predict(samples2) #predict on dataset 2\n",
        "pred12 = np.array(np.argmax(pred12,axis=1)) #inverse of to_categorical is computed by selecting the argmax\n",
        "cm12 = confusion_matrix(letters2,pred12)  \n",
        "score12 = model1.evaluate(samples2 , tf.keras.utils.to_categorical(letters2, num_classes), verbose=0) #evaluation on dataset 2\n",
        "print('Accuracy for unbalanced and varied dataset with model1:', round(score12[1],3))\n",
        "\n",
        "print('\\n')\n",
        "# Plotting confusion matrix\n",
        "ax= plt.subplot()\n",
        "sn.heatmap(cm12, annot=True,fmt='g',ax=ax)\n",
        "ax.set_xlabel('Predicted labels')\n",
        "ax.set_ylabel('True labels')\n",
        "ax.set_title('Confusion Matrix for dataset2'); \n",
        "ax.xaxis.set_ticklabels(['A', 'E','K','Y'])\n",
        "ax.yaxis.set_ticklabels(['A', 'E','K','Y'])"
      ],
      "metadata": {
        "colab": {
          "base_uri": "https://localhost:8080/",
          "height": 364
        },
        "id": "9ub9gSL17TLA",
        "outputId": "becb8bdf-8f1c-4519-9866-b764d67b4713"
      },
      "execution_count": 24,
      "outputs": [
        {
          "output_type": "stream",
          "name": "stdout",
          "text": [
            "Accuracy for unbalanced and varied dataset with model1: 0.936\n",
            "\n",
            "\n"
          ]
        },
        {
          "output_type": "execute_result",
          "data": {
            "text/plain": [
              "[Text(0, 0.5, 'A'), Text(0, 1.5, 'E'), Text(0, 2.5, 'K'), Text(0, 3.5, 'Y')]"
            ]
          },
          "metadata": {},
          "execution_count": 24
        },
        {
          "output_type": "display_data",
          "data": {
            "text/plain": [
              "<Figure size 432x288 with 2 Axes>"
            ],
            "image/png": "[encoded data removed]"
          },
          "metadata": {
            "needs_background": "light"
          }
        }
      ]
    },
    {
      "cell_type": "code",
      "source": [
        "# DATASET 3\n",
        "pred13 = model1.predict(samples3) #predict on dataset 3\n",
        "pred13 = np.array(np.argmax(pred13,axis=1)) #inverse of to_categorical is computed by selecting the argmax\n",
        "cm13 = confusion_matrix(letters3,pred13)  \n",
        "score13 = model1.evaluate(samples3 , tf.keras.utils.to_categorical(letters3, num_classes), verbose=0) #evaluation on dataset 3\n",
        "print('Accuracy for unbalanced and unvaried dataset with model1:', round(score13[1],3))\n",
        "\n",
        "print('\\n')\n",
        "# Plotting confusion matrix\n",
        "ax= plt.subplot()\n",
        "sn.heatmap(cm13, annot=True,fmt='g',ax=ax)\n",
        "ax.set_xlabel('Predicted labels')\n",
        "ax.set_ylabel('True labels')\n",
        "ax.set_title('Confusion Matrix for dataset 3'); \n",
        "ax.xaxis.set_ticklabels(['A', 'E','K','Y'])\n",
        "ax.yaxis.set_ticklabels(['A', 'E','K','Y'])"
      ],
      "metadata": {
        "colab": {
          "base_uri": "https://localhost:8080/",
          "height": 364
        },
        "id": "Oy8SrFe0-fey",
        "outputId": "ce0d0ce4-806f-452d-c681-7679e6771da1"
      },
      "execution_count": 25,
      "outputs": [
        {
          "output_type": "stream",
          "name": "stdout",
          "text": [
            "Accuracy for unbalanced and unvaried dataset with model1: 0.933\n",
            "\n",
            "\n"
          ]
        },
        {
          "output_type": "execute_result",
          "data": {
            "text/plain": [
              "[Text(0, 0.5, 'A'), Text(0, 1.5, 'E'), Text(0, 2.5, 'K'), Text(0, 3.5, 'Y')]"
            ]
          },
          "metadata": {},
          "execution_count": 25
        },
        {
          "output_type": "display_data",
          "data": {
            "text/plain": [
              "<Figure size 432x288 with 2 Axes>"
            ],
            "image/png": "[encoded data removed]"
          },
          "metadata": {
            "needs_background": "light"
          }
        }
      ]
    },
    {
      "cell_type": "markdown",
      "source": [
        "###### Comments:\n",
        "\n",
        "It can be seen that the first dataset reaches an accuracy of about 93% and 92% for datasets 2 and 3, respectively. This proves its efficiency in generalizing. The two confusion matrices are quite satisfactory. All letters are mostly well classified. This is since the dataset that was used to train the model contains a lot of variability in the letters, but also the fact that it is balanced helps a lot. "
      ],
      "metadata": {
        "id": "N-49uIHiRGNg"
      }
    },
    {
      "cell_type": "markdown",
      "source": [
        "##### $\\rightarrow$ Model 2 with dataset 1 and 3"
      ],
      "metadata": {
        "id": "79Bqd5kq7UcP"
      }
    },
    {
      "cell_type": "code",
      "source": [
        "# DATASET 1\n",
        "pred21 = model2.predict(samples1) #predict on dataset 1\n",
        "pred21 = np.array(np.argmax(pred21,axis=1)) #inverse of to_categorical is computed by selecting the argmax\n",
        "cm21 = confusion_matrix(letters1,pred21)  \n",
        "score21 = model2.evaluate(samples1 , tf.keras.utils.to_categorical(letters1, num_classes), verbose=0) #evaluation on dataset 1\n",
        "print('Accuracy for balanced and varied dataset with model2:', round(score21[1],3))\n",
        "\n",
        "print('\\n')\n",
        "# Plotting confusion matrix\n",
        "ax= plt.subplot()\n",
        "sn.heatmap(cm21, annot=True,fmt='g',ax=ax)\n",
        "ax.set_xlabel('Predicted labels')\n",
        "ax.set_ylabel('True labels')\n",
        "ax.set_title('Confusion Matrix for dataset 1'); \n",
        "ax.xaxis.set_ticklabels(['A', 'E','K','Y'])\n",
        "ax.yaxis.set_ticklabels(['A', 'E','K','Y'])"
      ],
      "metadata": {
        "colab": {
          "base_uri": "https://localhost:8080/",
          "height": 364
        },
        "id": "hTkmK2bi7W8A",
        "outputId": "109d1f80-ebc7-4397-ffb9-810db3f39d6f"
      },
      "execution_count": 26,
      "outputs": [
        {
          "output_type": "stream",
          "name": "stdout",
          "text": [
            "Accuracy for balanced and varied dataset with model2: 0.722\n",
            "\n",
            "\n"
          ]
        },
        {
          "output_type": "execute_result",
          "data": {
            "text/plain": [
              "[Text(0, 0.5, 'A'), Text(0, 1.5, 'E'), Text(0, 2.5, 'K'), Text(0, 3.5, 'Y')]"
            ]
          },
          "metadata": {},
          "execution_count": 26
        },
        {
          "output_type": "display_data",
          "data": {
            "text/plain": [
              "<Figure size 432x288 with 2 Axes>"
            ],
            "image/png": "[encoded data removed]"
          },
          "metadata": {
            "needs_background": "light"
          }
        }
      ]
    },
    {
      "cell_type": "code",
      "source": [
        "# DATASET 3\n",
        "pred23 = model2.predict(samples3) #predict on dataset 3\n",
        "pred23 = np.array(np.argmax(pred23,axis=1)) #inverse of to_categorical is computed by selecting the argmax\n",
        "cm23 = confusion_matrix(letters3,pred23)  \n",
        "score23 = model2.evaluate(samples1 , tf.keras.utils.to_categorical(letters1, num_classes), verbose=0) #evaluation on dataset 3\n",
        "print('Accuracy for balanced and unvaried dataset with model2:', round(score23[1],3))\n",
        "\n",
        "print('\\n')\n",
        "# Plotting confusion matrix\n",
        "ax= plt.subplot()\n",
        "sn.heatmap(cm23, annot=True,fmt='g',ax=ax)\n",
        "ax.set_xlabel('Predicted labels')\n",
        "ax.set_ylabel('True labels')\n",
        "ax.set_title('Confusion Matrix for dataset 3'); \n",
        "ax.xaxis.set_ticklabels(['A', 'E','K','Y'])\n",
        "ax.yaxis.set_ticklabels(['A', 'E','K','Y'])"
      ],
      "metadata": {
        "colab": {
          "base_uri": "https://localhost:8080/",
          "height": 364
        },
        "id": "4i39INDNAWay",
        "outputId": "9ca4240c-aafc-4f08-a14d-6d97d886a700"
      },
      "execution_count": 27,
      "outputs": [
        {
          "output_type": "stream",
          "name": "stdout",
          "text": [
            "Accuracy for balanced and unvaried dataset with model2: 0.722\n",
            "\n",
            "\n"
          ]
        },
        {
          "output_type": "execute_result",
          "data": {
            "text/plain": [
              "[Text(0, 0.5, 'A'), Text(0, 1.5, 'E'), Text(0, 2.5, 'K'), Text(0, 3.5, 'Y')]"
            ]
          },
          "metadata": {},
          "execution_count": 27
        },
        {
          "output_type": "display_data",
          "data": {
            "text/plain": [
              "<Figure size 432x288 with 2 Axes>"
            ],
            "image/png": "[encoded data removed]"
          },
          "metadata": {
            "needs_background": "light"
          }
        }
      ]
    },
    {
      "cell_type": "markdown",
      "source": [
        "###### Comments:\n",
        "Note that this model has been trained with the unbalanced dataset and we remind you that the majority class is 'A' and the minority is 'K'.The performances are lower than the first model. Indeed the accuracy is about 69% and 64% which is not satisfactory.We see that the best-classified class is 'A', not surprisingly being the majority class in the training dataset. What is also interesting is that for the same reason, the model made a lot of errors in the other classes by classifying them in 'A'."
      ],
      "metadata": {
        "id": "BaH9p-LfTTzF"
      }
    },
    {
      "cell_type": "markdown",
      "source": [
        "##### $\\rightarrow$ Model 3 with dataset 1 and 2"
      ],
      "metadata": {
        "id": "FiWXTVCv7XLZ"
      }
    },
    {
      "cell_type": "code",
      "source": [
        "# DATASET 1\n",
        "pred31 = model3.predict(samples1) #predict on dataset 1\n",
        "pred31 = np.array(np.argmax(pred31,axis=1)) #inverse of to_categorical is computed by selecting the argmax\n",
        "cm31 = confusion_matrix(letters1,pred31)  \n",
        "score31 = model3.evaluate(samples1 , tf.keras.utils.to_categorical(letters1, num_classes), verbose=0) #evaluation on dataset 1\n",
        "print('Accuracy for balanced and varied dataset with model3:', round(score31[1],3))\n",
        "\n",
        "print('\\n')\n",
        "# Plotting confusion matrix\n",
        "ax= plt.subplot()\n",
        "sn.heatmap(cm31, annot=True,fmt='g',ax=ax)\n",
        "ax.set_xlabel('Predicted labels')\n",
        "ax.set_ylabel('True labels')\n",
        "ax.set_title('Confusion Matrix for dataset 1'); \n",
        "ax.xaxis.set_ticklabels(['A', 'E','K','Y'])\n",
        "ax.yaxis.set_ticklabels(['A', 'E','K','Y'])"
      ],
      "metadata": {
        "colab": {
          "base_uri": "https://localhost:8080/",
          "height": 364
        },
        "id": "fiD-lYiZAVb9",
        "outputId": "a1c6e641-96a2-4665-f981-bf6c1ff7ed8e"
      },
      "execution_count": 28,
      "outputs": [
        {
          "output_type": "stream",
          "name": "stdout",
          "text": [
            "Accuracy for balanced and varied dataset with model3: 0.677\n",
            "\n",
            "\n"
          ]
        },
        {
          "output_type": "execute_result",
          "data": {
            "text/plain": [
              "[Text(0, 0.5, 'A'), Text(0, 1.5, 'E'), Text(0, 2.5, 'K'), Text(0, 3.5, 'Y')]"
            ]
          },
          "metadata": {},
          "execution_count": 28
        },
        {
          "output_type": "display_data",
          "data": {
            "text/plain": [
              "<Figure size 432x288 with 2 Axes>"
            ],
            "image/png": "[encoded data removed]"
          },
          "metadata": {
            "needs_background": "light"
          }
        }
      ]
    },
    {
      "cell_type": "code",
      "source": [
        "# DATASET 2\n",
        "pred32 = model3.predict(samples2) #predict on dataset 2\n",
        "pred32 = np.array(np.argmax(pred32,axis=1)) #inverse of to_categorical is computed by selecting the argmax\n",
        "cm32 = confusion_matrix(letters2,pred32)  \n",
        "score32 = model3.evaluate(samples2 , tf.keras.utils.to_categorical(letters2, num_classes), verbose=0) #evaluation on dataset 2\n",
        "print('Accuracy for unbalanced and varied dataset with model3:', round(score32[1],3))\n",
        "\n",
        "print('\\n')\n",
        "# Plotting confusion matrix\n",
        "ax= plt.subplot()\n",
        "sn.heatmap(cm32, annot=True,fmt='g',ax=ax)\n",
        "ax.set_xlabel('Predicted labels')\n",
        "ax.set_ylabel('True labels')\n",
        "ax.set_title('Confusion Matrix for dataset2'); \n",
        "ax.xaxis.set_ticklabels(['A', 'E','K','Y'])\n",
        "ax.yaxis.set_ticklabels(['A', 'E','K','Y'])"
      ],
      "metadata": {
        "colab": {
          "base_uri": "https://localhost:8080/",
          "height": 364
        },
        "id": "SlVGTn2nA2wx",
        "outputId": "fdbe58cd-2066-4b80-9cab-19d369e2803b"
      },
      "execution_count": 29,
      "outputs": [
        {
          "output_type": "stream",
          "name": "stdout",
          "text": [
            "Accuracy for unbalanced and varied dataset with model3: 0.793\n",
            "\n",
            "\n"
          ]
        },
        {
          "output_type": "execute_result",
          "data": {
            "text/plain": [
              "[Text(0, 0.5, 'A'), Text(0, 1.5, 'E'), Text(0, 2.5, 'K'), Text(0, 3.5, 'Y')]"
            ]
          },
          "metadata": {},
          "execution_count": 29
        },
        {
          "output_type": "display_data",
          "data": {
            "text/plain": [
              "<Figure size 432x288 with 2 Axes>"
            ],
            "image/png": "[encoded data removed]"
          },
          "metadata": {
            "needs_background": "light"
          }
        }
      ]
    },
    {
      "cell_type": "markdown",
      "source": [
        "##### Comments:\n",
        "Like the second one, the performance is not as good as the first one. The generalization remains a bit difficult. More wrong predictions have been done. Knowing that the model was trained with a dataset without variability in the K class, we expected to have this error number."
      ],
      "metadata": {
        "id": "AC2Q8__KYZXQ"
      }
    },
    {
      "cell_type": "markdown",
      "source": [
        "##### Conclusion:\n",
        "If we had to choose a dataset, obviously, we choose the first one because it is the one that allows us to generalize the most and to make better predictions. (the most efficient)."
      ],
      "metadata": {
        "id": "cz7rqgeTZslC"
      }
    },
    {
      "cell_type": "markdown",
      "source": [
        "## Saving models and weights"
      ],
      "metadata": {
        "id": "kY1HYJgP4_SJ"
      }
    },
    {
      "cell_type": "code",
      "source": [
        "#model 1\n",
        "model_json1 = model1.to_json()\n",
        "with open(path+\"/\"+\"model1.json\", \"w\") as json_file:\n",
        "     json_file.write(model_json1)\n",
        "model1.save_weights(path+\"/\"+\"model1_weights.h5\")\n",
        "print(\"Saved model 1 to disk\")"
      ],
      "metadata": {
        "id": "CGtzTciRHLK7",
        "colab": {
          "base_uri": "https://localhost:8080/"
        },
        "outputId": "39bf23b7-d3b4-4b05-c2da-5825ad389ecf"
      },
      "execution_count": 30,
      "outputs": [
        {
          "output_type": "stream",
          "name": "stdout",
          "text": [
            "Saved model 1 to disk\n"
          ]
        }
      ]
    },
    {
      "cell_type": "code",
      "source": [
        "#model 2\n",
        "model_json2 = model2.to_json()\n",
        "with open(path+\"/\"+\"model2.json\", \"w\") as json_file:\n",
        "     json_file.write(model_json2)\n",
        "model2.save_weights(path+\"/\"+\"model2_weights.h5\")\n",
        "print(\"Saved model 2 to disk\")"
      ],
      "metadata": {
        "colab": {
          "base_uri": "https://localhost:8080/"
        },
        "id": "teu_i6JtuGM6",
        "outputId": "d0b3d21f-669a-4f1c-ba88-ff55a0c4630c"
      },
      "execution_count": 31,
      "outputs": [
        {
          "output_type": "stream",
          "name": "stdout",
          "text": [
            "Saved model 2 to disk\n"
          ]
        }
      ]
    },
    {
      "cell_type": "code",
      "source": [
        "#model 3\n",
        "model_json3 = model3.to_json()\n",
        "with open(path+\"/\"+\"model3.json\", \"w\") as json_file:\n",
        "     json_file.write(model_json3)\n",
        "model3.save_weights(path+\"/\"+\"model3_weights.h5\")\n",
        "print(\"Saved model 3 to disk\")"
      ],
      "metadata": {
        "colab": {
          "base_uri": "https://localhost:8080/"
        },
        "id": "_5Bz-pwxzNBG",
        "outputId": "922e08e8-7a19-4787-97df-cf9dc32da3de"
      },
      "execution_count": 32,
      "outputs": [
        {
          "output_type": "stream",
          "name": "stdout",
          "text": [
            "Saved model 3 to disk\n"
          ]
        }
      ]
    }
  ]
}
